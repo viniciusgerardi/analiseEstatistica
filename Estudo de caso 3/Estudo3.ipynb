{
 "cells": [
  {
   "attachments": {},
   "cell_type": "markdown",
   "metadata": {},
   "source": [
    "## Análise estatística\n",
    "### Indicações de Soluções das Atividades de Aprofundamento\n",
    "### Explorando a Base de Dados Diamonds do pacote ggplot2"
   ]
  },
  {
   "cell_type": "markdown",
   "metadata": {},
   "source": [
    "#### Leitura dos dados"
   ]
  },
  {
   "cell_type": "code",
   "execution_count": 1,
   "metadata": {
    "vscode": {
     "languageId": "r"
    }
   },
   "outputs": [],
   "source": [
    "# Bibliotecas\n",
    "library(ggplot2)\n",
    "library(ggpubr)\n",
    "library(skimr)"
   ]
  },
  {
   "cell_type": "code",
   "execution_count": 2,
   "metadata": {
    "vscode": {
     "languageId": "r"
    }
   },
   "outputs": [],
   "source": [
    "data(diamonds)\n",
    "diamantes <- diamonds"
   ]
  },
  {
   "cell_type": "markdown",
   "metadata": {},
   "source": [
    "#### Qual é a estrutura do conjunto de dados “diamantes”?"
   ]
  },
  {
   "cell_type": "code",
   "execution_count": 3,
   "metadata": {
    "vscode": {
     "languageId": "r"
    }
   },
   "outputs": [
    {
     "name": "stdout",
     "output_type": "stream",
     "text": [
      "tibble [53,940 × 10] (S3: tbl_df/tbl/data.frame)\n",
      " $ carat  : num [1:53940] 0.23 0.21 0.23 0.29 0.31 0.24 0.24 0.26 0.22 0.23 ...\n",
      " $ cut    : Ord.factor w/ 5 levels \"Fair\"<\"Good\"<..: 5 4 2 4 2 3 3 3 1 3 ...\n",
      " $ color  : Ord.factor w/ 7 levels \"D\"<\"E\"<\"F\"<\"G\"<..: 2 2 2 6 7 7 6 5 2 5 ...\n",
      " $ clarity: Ord.factor w/ 8 levels \"I1\"<\"SI2\"<\"SI1\"<..: 2 3 5 4 2 6 7 3 4 5 ...\n",
      " $ depth  : num [1:53940] 61.5 59.8 56.9 62.4 63.3 62.8 62.3 61.9 65.1 59.4 ...\n",
      " $ table  : num [1:53940] 55 61 65 58 58 57 57 55 61 61 ...\n",
      " $ price  : int [1:53940] 326 326 327 334 335 336 336 337 337 338 ...\n",
      " $ x      : num [1:53940] 3.95 3.89 4.05 4.2 4.34 3.94 3.95 4.07 3.87 4 ...\n",
      " $ y      : num [1:53940] 3.98 3.84 4.07 4.23 4.35 3.96 3.98 4.11 3.78 4.05 ...\n",
      " $ z      : num [1:53940] 2.43 2.31 2.31 2.63 2.75 2.48 2.47 2.53 2.49 2.39 ...\n"
     ]
    }
   ],
   "source": [
    "str(diamantes)"
   ]
  },
  {
   "cell_type": "markdown",
   "metadata": {},
   "source": [
    "O conjunto de dados diamantes possui 10 colunas (variáveis) e 53940 linhas (observações). As colunas carat, depth, table, x, y e z são de valores numéricos, as colunas cut, color e clarity possui atributos ordinais com, respectivamente, 5, 7 e 8 níveis de classificação. A coluna price apresenta valores inteiros.\n",
    "\n",
    "Os nomes das colunas já estão em um formato adequado para a análise, sem espaços e sem caracteres especiais."
   ]
  },
  {
   "cell_type": "markdown",
   "metadata": {},
   "source": [
    "#### Explore a parte inicial e a final do conjunto de dados"
   ]
  },
  {
   "cell_type": "code",
   "execution_count": 4,
   "metadata": {
    "vscode": {
     "languageId": "r"
    }
   },
   "outputs": [
    {
     "data": {
      "text/html": [
       "<table class=\"dataframe\">\n",
       "<caption>A tibble: 6 × 10</caption>\n",
       "<thead>\n",
       "\t<tr><th scope=col>carat</th><th scope=col>cut</th><th scope=col>color</th><th scope=col>clarity</th><th scope=col>depth</th><th scope=col>table</th><th scope=col>price</th><th scope=col>x</th><th scope=col>y</th><th scope=col>z</th></tr>\n",
       "\t<tr><th scope=col>&lt;dbl&gt;</th><th scope=col>&lt;ord&gt;</th><th scope=col>&lt;ord&gt;</th><th scope=col>&lt;ord&gt;</th><th scope=col>&lt;dbl&gt;</th><th scope=col>&lt;dbl&gt;</th><th scope=col>&lt;int&gt;</th><th scope=col>&lt;dbl&gt;</th><th scope=col>&lt;dbl&gt;</th><th scope=col>&lt;dbl&gt;</th></tr>\n",
       "</thead>\n",
       "<tbody>\n",
       "\t<tr><td>0.23</td><td>Ideal    </td><td>E</td><td>SI2 </td><td>61.5</td><td>55</td><td>326</td><td>3.95</td><td>3.98</td><td>2.43</td></tr>\n",
       "\t<tr><td>0.21</td><td>Premium  </td><td>E</td><td>SI1 </td><td>59.8</td><td>61</td><td>326</td><td>3.89</td><td>3.84</td><td>2.31</td></tr>\n",
       "\t<tr><td>0.23</td><td>Good     </td><td>E</td><td>VS1 </td><td>56.9</td><td>65</td><td>327</td><td>4.05</td><td>4.07</td><td>2.31</td></tr>\n",
       "\t<tr><td>0.29</td><td>Premium  </td><td>I</td><td>VS2 </td><td>62.4</td><td>58</td><td>334</td><td>4.20</td><td>4.23</td><td>2.63</td></tr>\n",
       "\t<tr><td>0.31</td><td>Good     </td><td>J</td><td>SI2 </td><td>63.3</td><td>58</td><td>335</td><td>4.34</td><td>4.35</td><td>2.75</td></tr>\n",
       "\t<tr><td>0.24</td><td>Very Good</td><td>J</td><td>VVS2</td><td>62.8</td><td>57</td><td>336</td><td>3.94</td><td>3.96</td><td>2.48</td></tr>\n",
       "</tbody>\n",
       "</table>\n"
      ],
      "text/latex": [
       "A tibble: 6 × 10\n",
       "\\begin{tabular}{llllllllll}\n",
       " carat & cut & color & clarity & depth & table & price & x & y & z\\\\\n",
       " <dbl> & <ord> & <ord> & <ord> & <dbl> & <dbl> & <int> & <dbl> & <dbl> & <dbl>\\\\\n",
       "\\hline\n",
       "\t 0.23 & Ideal     & E & SI2  & 61.5 & 55 & 326 & 3.95 & 3.98 & 2.43\\\\\n",
       "\t 0.21 & Premium   & E & SI1  & 59.8 & 61 & 326 & 3.89 & 3.84 & 2.31\\\\\n",
       "\t 0.23 & Good      & E & VS1  & 56.9 & 65 & 327 & 4.05 & 4.07 & 2.31\\\\\n",
       "\t 0.29 & Premium   & I & VS2  & 62.4 & 58 & 334 & 4.20 & 4.23 & 2.63\\\\\n",
       "\t 0.31 & Good      & J & SI2  & 63.3 & 58 & 335 & 4.34 & 4.35 & 2.75\\\\\n",
       "\t 0.24 & Very Good & J & VVS2 & 62.8 & 57 & 336 & 3.94 & 3.96 & 2.48\\\\\n",
       "\\end{tabular}\n"
      ],
      "text/markdown": [
       "\n",
       "A tibble: 6 × 10\n",
       "\n",
       "| carat &lt;dbl&gt; | cut &lt;ord&gt; | color &lt;ord&gt; | clarity &lt;ord&gt; | depth &lt;dbl&gt; | table &lt;dbl&gt; | price &lt;int&gt; | x &lt;dbl&gt; | y &lt;dbl&gt; | z &lt;dbl&gt; |\n",
       "|---|---|---|---|---|---|---|---|---|---|\n",
       "| 0.23 | Ideal     | E | SI2  | 61.5 | 55 | 326 | 3.95 | 3.98 | 2.43 |\n",
       "| 0.21 | Premium   | E | SI1  | 59.8 | 61 | 326 | 3.89 | 3.84 | 2.31 |\n",
       "| 0.23 | Good      | E | VS1  | 56.9 | 65 | 327 | 4.05 | 4.07 | 2.31 |\n",
       "| 0.29 | Premium   | I | VS2  | 62.4 | 58 | 334 | 4.20 | 4.23 | 2.63 |\n",
       "| 0.31 | Good      | J | SI2  | 63.3 | 58 | 335 | 4.34 | 4.35 | 2.75 |\n",
       "| 0.24 | Very Good | J | VVS2 | 62.8 | 57 | 336 | 3.94 | 3.96 | 2.48 |\n",
       "\n"
      ],
      "text/plain": [
       "  carat cut       color clarity depth table price x    y    z   \n",
       "1 0.23  Ideal     E     SI2     61.5  55    326   3.95 3.98 2.43\n",
       "2 0.21  Premium   E     SI1     59.8  61    326   3.89 3.84 2.31\n",
       "3 0.23  Good      E     VS1     56.9  65    327   4.05 4.07 2.31\n",
       "4 0.29  Premium   I     VS2     62.4  58    334   4.20 4.23 2.63\n",
       "5 0.31  Good      J     SI2     63.3  58    335   4.34 4.35 2.75\n",
       "6 0.24  Very Good J     VVS2    62.8  57    336   3.94 3.96 2.48"
      ]
     },
     "metadata": {},
     "output_type": "display_data"
    },
    {
     "data": {
      "text/html": [
       "<table class=\"dataframe\">\n",
       "<caption>A tibble: 6 × 10</caption>\n",
       "<thead>\n",
       "\t<tr><th scope=col>carat</th><th scope=col>cut</th><th scope=col>color</th><th scope=col>clarity</th><th scope=col>depth</th><th scope=col>table</th><th scope=col>price</th><th scope=col>x</th><th scope=col>y</th><th scope=col>z</th></tr>\n",
       "\t<tr><th scope=col>&lt;dbl&gt;</th><th scope=col>&lt;ord&gt;</th><th scope=col>&lt;ord&gt;</th><th scope=col>&lt;ord&gt;</th><th scope=col>&lt;dbl&gt;</th><th scope=col>&lt;dbl&gt;</th><th scope=col>&lt;int&gt;</th><th scope=col>&lt;dbl&gt;</th><th scope=col>&lt;dbl&gt;</th><th scope=col>&lt;dbl&gt;</th></tr>\n",
       "</thead>\n",
       "<tbody>\n",
       "\t<tr><td>0.72</td><td>Premium  </td><td>D</td><td>SI1</td><td>62.7</td><td>59</td><td>2757</td><td>5.69</td><td>5.73</td><td>3.58</td></tr>\n",
       "\t<tr><td>0.72</td><td>Ideal    </td><td>D</td><td>SI1</td><td>60.8</td><td>57</td><td>2757</td><td>5.75</td><td>5.76</td><td>3.50</td></tr>\n",
       "\t<tr><td>0.72</td><td>Good     </td><td>D</td><td>SI1</td><td>63.1</td><td>55</td><td>2757</td><td>5.69</td><td>5.75</td><td>3.61</td></tr>\n",
       "\t<tr><td>0.70</td><td>Very Good</td><td>D</td><td>SI1</td><td>62.8</td><td>60</td><td>2757</td><td>5.66</td><td>5.68</td><td>3.56</td></tr>\n",
       "\t<tr><td>0.86</td><td>Premium  </td><td>H</td><td>SI2</td><td>61.0</td><td>58</td><td>2757</td><td>6.15</td><td>6.12</td><td>3.74</td></tr>\n",
       "\t<tr><td>0.75</td><td>Ideal    </td><td>D</td><td>SI2</td><td>62.2</td><td>55</td><td>2757</td><td>5.83</td><td>5.87</td><td>3.64</td></tr>\n",
       "</tbody>\n",
       "</table>\n"
      ],
      "text/latex": [
       "A tibble: 6 × 10\n",
       "\\begin{tabular}{llllllllll}\n",
       " carat & cut & color & clarity & depth & table & price & x & y & z\\\\\n",
       " <dbl> & <ord> & <ord> & <ord> & <dbl> & <dbl> & <int> & <dbl> & <dbl> & <dbl>\\\\\n",
       "\\hline\n",
       "\t 0.72 & Premium   & D & SI1 & 62.7 & 59 & 2757 & 5.69 & 5.73 & 3.58\\\\\n",
       "\t 0.72 & Ideal     & D & SI1 & 60.8 & 57 & 2757 & 5.75 & 5.76 & 3.50\\\\\n",
       "\t 0.72 & Good      & D & SI1 & 63.1 & 55 & 2757 & 5.69 & 5.75 & 3.61\\\\\n",
       "\t 0.70 & Very Good & D & SI1 & 62.8 & 60 & 2757 & 5.66 & 5.68 & 3.56\\\\\n",
       "\t 0.86 & Premium   & H & SI2 & 61.0 & 58 & 2757 & 6.15 & 6.12 & 3.74\\\\\n",
       "\t 0.75 & Ideal     & D & SI2 & 62.2 & 55 & 2757 & 5.83 & 5.87 & 3.64\\\\\n",
       "\\end{tabular}\n"
      ],
      "text/markdown": [
       "\n",
       "A tibble: 6 × 10\n",
       "\n",
       "| carat &lt;dbl&gt; | cut &lt;ord&gt; | color &lt;ord&gt; | clarity &lt;ord&gt; | depth &lt;dbl&gt; | table &lt;dbl&gt; | price &lt;int&gt; | x &lt;dbl&gt; | y &lt;dbl&gt; | z &lt;dbl&gt; |\n",
       "|---|---|---|---|---|---|---|---|---|---|\n",
       "| 0.72 | Premium   | D | SI1 | 62.7 | 59 | 2757 | 5.69 | 5.73 | 3.58 |\n",
       "| 0.72 | Ideal     | D | SI1 | 60.8 | 57 | 2757 | 5.75 | 5.76 | 3.50 |\n",
       "| 0.72 | Good      | D | SI1 | 63.1 | 55 | 2757 | 5.69 | 5.75 | 3.61 |\n",
       "| 0.70 | Very Good | D | SI1 | 62.8 | 60 | 2757 | 5.66 | 5.68 | 3.56 |\n",
       "| 0.86 | Premium   | H | SI2 | 61.0 | 58 | 2757 | 6.15 | 6.12 | 3.74 |\n",
       "| 0.75 | Ideal     | D | SI2 | 62.2 | 55 | 2757 | 5.83 | 5.87 | 3.64 |\n",
       "\n"
      ],
      "text/plain": [
       "  carat cut       color clarity depth table price x    y    z   \n",
       "1 0.72  Premium   D     SI1     62.7  59    2757  5.69 5.73 3.58\n",
       "2 0.72  Ideal     D     SI1     60.8  57    2757  5.75 5.76 3.50\n",
       "3 0.72  Good      D     SI1     63.1  55    2757  5.69 5.75 3.61\n",
       "4 0.70  Very Good D     SI1     62.8  60    2757  5.66 5.68 3.56\n",
       "5 0.86  Premium   H     SI2     61.0  58    2757  6.15 6.12 3.74\n",
       "6 0.75  Ideal     D     SI2     62.2  55    2757  5.83 5.87 3.64"
      ]
     },
     "metadata": {},
     "output_type": "display_data"
    }
   ],
   "source": [
    "head(diamantes)\n",
    "tail(diamantes)"
   ]
  },
  {
   "cell_type": "markdown",
   "metadata": {},
   "source": [
    "Os dados iniciais e finais estão em ordem, não temos comentários após o final dos dados e os valores estão dentro da estrutura esperada."
   ]
  },
  {
   "cell_type": "markdown",
   "metadata": {},
   "source": [
    "#### Faça alguns sumários estatísticos para entender melhor a base de dados."
   ]
  },
  {
   "cell_type": "code",
   "execution_count": 5,
   "metadata": {
    "vscode": {
     "languageId": "r"
    }
   },
   "outputs": [],
   "source": [
    "# Função para cálculo de moda\n",
    "getmode <- function(v) {\n",
    "   uniqv <- unique(v)\n",
    "   uniqv[which.max(tabulate(match(v, uniqv)))]\n",
    "}"
   ]
  },
  {
   "cell_type": "code",
   "execution_count": 6,
   "metadata": {
    "vscode": {
     "languageId": "r"
    }
   },
   "outputs": [],
   "source": [
    "# Função para cálculo dos valores estatístivos numéricos\n",
    "getvaluesnum <- function(v) {\n",
    "    print(paste(\"Média: \",mean(v)))\n",
    "    print(paste(\"Mediana: \",median(v)))\n",
    "    print(paste(\"Desvio padrão:\", sd(v)))\n",
    "    print(paste(\"Variância:\", var(v)))\n",
    "    print(paste(\"Moda:\", getmode(v)))\n",
    "\n",
    "    print(\"Quartis:\")\n",
    "    quantile(v)\n",
    "}"
   ]
  },
  {
   "cell_type": "code",
   "execution_count": 7,
   "metadata": {
    "vscode": {
     "languageId": "r"
    }
   },
   "outputs": [
    {
     "name": "stdout",
     "output_type": "stream",
     "text": [
      "[1] \"Média:  0.797939747868001\"\n",
      "[1] \"Mediana:  0.7\"\n",
      "[1] \"Desvio padrão: 0.474011244405418\"\n",
      "[1] \"Variância: 0.224686659822773\"\n",
      "[1] \"Moda: 0.3\"\n",
      "[1] \"Quartis:\"\n"
     ]
    },
    {
     "data": {
      "text/html": [
       "<style>\n",
       ".dl-inline {width: auto; margin:0; padding: 0}\n",
       ".dl-inline>dt, .dl-inline>dd {float: none; width: auto; display: inline-block}\n",
       ".dl-inline>dt::after {content: \":\\0020\"; padding-right: .5ex}\n",
       ".dl-inline>dt:not(:first-of-type) {padding-left: .5ex}\n",
       "</style><dl class=dl-inline><dt>0%</dt><dd>0.2</dd><dt>25%</dt><dd>0.4</dd><dt>50%</dt><dd>0.7</dd><dt>75%</dt><dd>1.04</dd><dt>100%</dt><dd>5.01</dd></dl>\n"
      ],
      "text/latex": [
       "\\begin{description*}\n",
       "\\item[0\\textbackslash{}\\%] 0.2\n",
       "\\item[25\\textbackslash{}\\%] 0.4\n",
       "\\item[50\\textbackslash{}\\%] 0.7\n",
       "\\item[75\\textbackslash{}\\%] 1.04\n",
       "\\item[100\\textbackslash{}\\%] 5.01\n",
       "\\end{description*}\n"
      ],
      "text/markdown": [
       "0%\n",
       ":   0.225%\n",
       ":   0.450%\n",
       ":   0.775%\n",
       ":   1.04100%\n",
       ":   5.01\n",
       "\n"
      ],
      "text/plain": [
       "  0%  25%  50%  75% 100% \n",
       "0.20 0.40 0.70 1.04 5.01 "
      ]
     },
     "metadata": {},
     "output_type": "display_data"
    }
   ],
   "source": [
    "getvaluesnum(diamantes$carat)"
   ]
  },
  {
   "cell_type": "code",
   "execution_count": 8,
   "metadata": {
    "vscode": {
     "languageId": "r"
    }
   },
   "outputs": [
    {
     "name": "stdout",
     "output_type": "stream",
     "text": [
      "[1] \"Média:  61.749404894327\"\n",
      "[1] \"Mediana:  61.8\"\n",
      "[1] \"Desvio padrão: 1.43262131883366\"\n",
      "[1] \"Variância: 2.0524038431767\"\n",
      "[1] \"Moda: 62\"\n",
      "[1] \"Quartis:\"\n"
     ]
    },
    {
     "data": {
      "text/html": [
       "<style>\n",
       ".dl-inline {width: auto; margin:0; padding: 0}\n",
       ".dl-inline>dt, .dl-inline>dd {float: none; width: auto; display: inline-block}\n",
       ".dl-inline>dt::after {content: \":\\0020\"; padding-right: .5ex}\n",
       ".dl-inline>dt:not(:first-of-type) {padding-left: .5ex}\n",
       "</style><dl class=dl-inline><dt>0%</dt><dd>43</dd><dt>25%</dt><dd>61</dd><dt>50%</dt><dd>61.8</dd><dt>75%</dt><dd>62.5</dd><dt>100%</dt><dd>79</dd></dl>\n"
      ],
      "text/latex": [
       "\\begin{description*}\n",
       "\\item[0\\textbackslash{}\\%] 43\n",
       "\\item[25\\textbackslash{}\\%] 61\n",
       "\\item[50\\textbackslash{}\\%] 61.8\n",
       "\\item[75\\textbackslash{}\\%] 62.5\n",
       "\\item[100\\textbackslash{}\\%] 79\n",
       "\\end{description*}\n"
      ],
      "text/markdown": [
       "0%\n",
       ":   4325%\n",
       ":   6150%\n",
       ":   61.875%\n",
       ":   62.5100%\n",
       ":   79\n",
       "\n"
      ],
      "text/plain": [
       "  0%  25%  50%  75% 100% \n",
       "43.0 61.0 61.8 62.5 79.0 "
      ]
     },
     "metadata": {},
     "output_type": "display_data"
    }
   ],
   "source": [
    "getvaluesnum(diamantes$depth)"
   ]
  },
  {
   "cell_type": "code",
   "execution_count": 9,
   "metadata": {
    "vscode": {
     "languageId": "r"
    }
   },
   "outputs": [
    {
     "name": "stdout",
     "output_type": "stream",
     "text": [
      "[1] \"Média:  57.457183908046\"\n",
      "[1] \"Mediana:  57\"\n",
      "[1] \"Desvio padrão: 2.23449056282132\"\n",
      "[1] \"Variância: 4.99294807533755\"\n",
      "[1] \"Moda: 56\"\n",
      "[1] \"Quartis:\"\n"
     ]
    },
    {
     "data": {
      "text/html": [
       "<style>\n",
       ".dl-inline {width: auto; margin:0; padding: 0}\n",
       ".dl-inline>dt, .dl-inline>dd {float: none; width: auto; display: inline-block}\n",
       ".dl-inline>dt::after {content: \":\\0020\"; padding-right: .5ex}\n",
       ".dl-inline>dt:not(:first-of-type) {padding-left: .5ex}\n",
       "</style><dl class=dl-inline><dt>0%</dt><dd>43</dd><dt>25%</dt><dd>56</dd><dt>50%</dt><dd>57</dd><dt>75%</dt><dd>59</dd><dt>100%</dt><dd>95</dd></dl>\n"
      ],
      "text/latex": [
       "\\begin{description*}\n",
       "\\item[0\\textbackslash{}\\%] 43\n",
       "\\item[25\\textbackslash{}\\%] 56\n",
       "\\item[50\\textbackslash{}\\%] 57\n",
       "\\item[75\\textbackslash{}\\%] 59\n",
       "\\item[100\\textbackslash{}\\%] 95\n",
       "\\end{description*}\n"
      ],
      "text/markdown": [
       "0%\n",
       ":   4325%\n",
       ":   5650%\n",
       ":   5775%\n",
       ":   59100%\n",
       ":   95\n",
       "\n"
      ],
      "text/plain": [
       "  0%  25%  50%  75% 100% \n",
       "  43   56   57   59   95 "
      ]
     },
     "metadata": {},
     "output_type": "display_data"
    }
   ],
   "source": [
    "getvaluesnum(diamantes$table)"
   ]
  },
  {
   "cell_type": "code",
   "execution_count": 10,
   "metadata": {
    "vscode": {
     "languageId": "r"
    }
   },
   "outputs": [
    {
     "name": "stdout",
     "output_type": "stream",
     "text": [
      "[1] \"Média:  5.73115721171672\"\n",
      "[1] \"Mediana:  5.7\"\n",
      "[1] \"Desvio padrão: 1.12176074679249\"\n",
      "[1] \"Variância: 1.25834717304445\"\n",
      "[1] \"Moda: 4.37\"\n",
      "[1] \"Quartis:\"\n"
     ]
    },
    {
     "data": {
      "text/html": [
       "<style>\n",
       ".dl-inline {width: auto; margin:0; padding: 0}\n",
       ".dl-inline>dt, .dl-inline>dd {float: none; width: auto; display: inline-block}\n",
       ".dl-inline>dt::after {content: \":\\0020\"; padding-right: .5ex}\n",
       ".dl-inline>dt:not(:first-of-type) {padding-left: .5ex}\n",
       "</style><dl class=dl-inline><dt>0%</dt><dd>0</dd><dt>25%</dt><dd>4.71</dd><dt>50%</dt><dd>5.7</dd><dt>75%</dt><dd>6.54</dd><dt>100%</dt><dd>10.74</dd></dl>\n"
      ],
      "text/latex": [
       "\\begin{description*}\n",
       "\\item[0\\textbackslash{}\\%] 0\n",
       "\\item[25\\textbackslash{}\\%] 4.71\n",
       "\\item[50\\textbackslash{}\\%] 5.7\n",
       "\\item[75\\textbackslash{}\\%] 6.54\n",
       "\\item[100\\textbackslash{}\\%] 10.74\n",
       "\\end{description*}\n"
      ],
      "text/markdown": [
       "0%\n",
       ":   025%\n",
       ":   4.7150%\n",
       ":   5.775%\n",
       ":   6.54100%\n",
       ":   10.74\n",
       "\n"
      ],
      "text/plain": [
       "   0%   25%   50%   75%  100% \n",
       " 0.00  4.71  5.70  6.54 10.74 "
      ]
     },
     "metadata": {},
     "output_type": "display_data"
    }
   ],
   "source": [
    "getvaluesnum(diamantes$x)"
   ]
  },
  {
   "cell_type": "code",
   "execution_count": 11,
   "metadata": {
    "vscode": {
     "languageId": "r"
    }
   },
   "outputs": [
    {
     "name": "stdout",
     "output_type": "stream",
     "text": [
      "[1] \"Média:  5.73452595476455\"\n",
      "[1] \"Mediana:  5.71\"\n",
      "[1] \"Desvio padrão: 1.14213467412356\"\n",
      "[1] \"Variância: 1.30447161383532\"\n",
      "[1] \"Moda: 4.34\"\n",
      "[1] \"Quartis:\"\n"
     ]
    },
    {
     "data": {
      "text/html": [
       "<style>\n",
       ".dl-inline {width: auto; margin:0; padding: 0}\n",
       ".dl-inline>dt, .dl-inline>dd {float: none; width: auto; display: inline-block}\n",
       ".dl-inline>dt::after {content: \":\\0020\"; padding-right: .5ex}\n",
       ".dl-inline>dt:not(:first-of-type) {padding-left: .5ex}\n",
       "</style><dl class=dl-inline><dt>0%</dt><dd>0</dd><dt>25%</dt><dd>4.72</dd><dt>50%</dt><dd>5.71</dd><dt>75%</dt><dd>6.54</dd><dt>100%</dt><dd>58.9</dd></dl>\n"
      ],
      "text/latex": [
       "\\begin{description*}\n",
       "\\item[0\\textbackslash{}\\%] 0\n",
       "\\item[25\\textbackslash{}\\%] 4.72\n",
       "\\item[50\\textbackslash{}\\%] 5.71\n",
       "\\item[75\\textbackslash{}\\%] 6.54\n",
       "\\item[100\\textbackslash{}\\%] 58.9\n",
       "\\end{description*}\n"
      ],
      "text/markdown": [
       "0%\n",
       ":   025%\n",
       ":   4.7250%\n",
       ":   5.7175%\n",
       ":   6.54100%\n",
       ":   58.9\n",
       "\n"
      ],
      "text/plain": [
       "   0%   25%   50%   75%  100% \n",
       " 0.00  4.72  5.71  6.54 58.90 "
      ]
     },
     "metadata": {},
     "output_type": "display_data"
    }
   ],
   "source": [
    "getvaluesnum(diamantes$y)"
   ]
  },
  {
   "cell_type": "code",
   "execution_count": 12,
   "metadata": {
    "vscode": {
     "languageId": "r"
    }
   },
   "outputs": [
    {
     "name": "stdout",
     "output_type": "stream",
     "text": [
      "[1] \"Média:  3.53873377827215\"\n",
      "[1] \"Mediana:  3.53\"\n",
      "[1] \"Desvio padrão: 0.705698846949994\"\n",
      "[1] \"Variância: 0.498010862586551\"\n",
      "[1] \"Moda: 2.7\"\n",
      "[1] \"Quartis:\"\n"
     ]
    },
    {
     "data": {
      "text/html": [
       "<style>\n",
       ".dl-inline {width: auto; margin:0; padding: 0}\n",
       ".dl-inline>dt, .dl-inline>dd {float: none; width: auto; display: inline-block}\n",
       ".dl-inline>dt::after {content: \":\\0020\"; padding-right: .5ex}\n",
       ".dl-inline>dt:not(:first-of-type) {padding-left: .5ex}\n",
       "</style><dl class=dl-inline><dt>0%</dt><dd>0</dd><dt>25%</dt><dd>2.91</dd><dt>50%</dt><dd>3.53</dd><dt>75%</dt><dd>4.04</dd><dt>100%</dt><dd>31.8</dd></dl>\n"
      ],
      "text/latex": [
       "\\begin{description*}\n",
       "\\item[0\\textbackslash{}\\%] 0\n",
       "\\item[25\\textbackslash{}\\%] 2.91\n",
       "\\item[50\\textbackslash{}\\%] 3.53\n",
       "\\item[75\\textbackslash{}\\%] 4.04\n",
       "\\item[100\\textbackslash{}\\%] 31.8\n",
       "\\end{description*}\n"
      ],
      "text/markdown": [
       "0%\n",
       ":   025%\n",
       ":   2.9150%\n",
       ":   3.5375%\n",
       ":   4.04100%\n",
       ":   31.8\n",
       "\n"
      ],
      "text/plain": [
       "   0%   25%   50%   75%  100% \n",
       " 0.00  2.91  3.53  4.04 31.80 "
      ]
     },
     "metadata": {},
     "output_type": "display_data"
    }
   ],
   "source": [
    "getvaluesnum(diamantes$z)"
   ]
  },
  {
   "cell_type": "code",
   "execution_count": 13,
   "metadata": {
    "vscode": {
     "languageId": "r"
    }
   },
   "outputs": [
    {
     "name": "stdout",
     "output_type": "stream",
     "text": [
      "[1] \"Média:  3932.79972191324\"\n",
      "[1] \"Mediana:  2401\"\n",
      "[1] \"Desvio padrão: 3989.43973814638\"\n",
      "[1] \"Variância: 15915629.4243014\"\n",
      "[1] \"Moda: 605\"\n",
      "[1] \"Quartis:\"\n"
     ]
    },
    {
     "data": {
      "text/html": [
       "<style>\n",
       ".dl-inline {width: auto; margin:0; padding: 0}\n",
       ".dl-inline>dt, .dl-inline>dd {float: none; width: auto; display: inline-block}\n",
       ".dl-inline>dt::after {content: \":\\0020\"; padding-right: .5ex}\n",
       ".dl-inline>dt:not(:first-of-type) {padding-left: .5ex}\n",
       "</style><dl class=dl-inline><dt>0%</dt><dd>326</dd><dt>25%</dt><dd>950</dd><dt>50%</dt><dd>2401</dd><dt>75%</dt><dd>5324.25</dd><dt>100%</dt><dd>18823</dd></dl>\n"
      ],
      "text/latex": [
       "\\begin{description*}\n",
       "\\item[0\\textbackslash{}\\%] 326\n",
       "\\item[25\\textbackslash{}\\%] 950\n",
       "\\item[50\\textbackslash{}\\%] 2401\n",
       "\\item[75\\textbackslash{}\\%] 5324.25\n",
       "\\item[100\\textbackslash{}\\%] 18823\n",
       "\\end{description*}\n"
      ],
      "text/markdown": [
       "0%\n",
       ":   32625%\n",
       ":   95050%\n",
       ":   240175%\n",
       ":   5324.25100%\n",
       ":   18823\n",
       "\n"
      ],
      "text/plain": [
       "      0%      25%      50%      75%     100% \n",
       "  326.00   950.00  2401.00  5324.25 18823.00 "
      ]
     },
     "metadata": {},
     "output_type": "display_data"
    }
   ],
   "source": [
    "getvaluesnum(diamantes$price)"
   ]
  },
  {
   "cell_type": "code",
   "execution_count": 14,
   "metadata": {
    "vscode": {
     "languageId": "r"
    }
   },
   "outputs": [
    {
     "data": {
      "text/html": [
       "Ideal\n",
       "<details>\n",
       "\t<summary style=display:list-item;cursor:pointer>\n",
       "\t\t<strong>Levels</strong>:\n",
       "\t</summary>\n",
       "\t<style>\n",
       "\t.list-inline {list-style: none; margin:0; padding: 0}\n",
       "\t.list-inline>li {display: inline-block}\n",
       "\t.list-inline>li:not(:last-child)::after {content: \"\\00b7\"; padding: 0 .5ex}\n",
       "\t</style>\n",
       "\t<ol class=list-inline><li>'Fair'</li><li>'Good'</li><li>'Very Good'</li><li>'Premium'</li><li>'Ideal'</li></ol>\n",
       "</details>"
      ],
      "text/latex": [
       "Ideal\n",
       "\\emph{Levels}: \\begin{enumerate*}\n",
       "\\item 'Fair'\n",
       "\\item 'Good'\n",
       "\\item 'Very Good'\n",
       "\\item 'Premium'\n",
       "\\item 'Ideal'\n",
       "\\end{enumerate*}\n"
      ],
      "text/markdown": [
       "Ideal\n",
       "**Levels**: 1. 'Fair'\n",
       "2. 'Good'\n",
       "3. 'Very Good'\n",
       "4. 'Premium'\n",
       "5. 'Ideal'\n",
       "\n",
       "\n"
      ],
      "text/plain": [
       "[1] Ideal\n",
       "Levels: Fair < Good < Very Good < Premium < Ideal"
      ]
     },
     "metadata": {},
     "output_type": "display_data"
    }
   ],
   "source": [
    "getmode(diamantes$cut)"
   ]
  },
  {
   "cell_type": "code",
   "execution_count": 15,
   "metadata": {
    "vscode": {
     "languageId": "r"
    }
   },
   "outputs": [
    {
     "data": {
      "text/html": [
       "G\n",
       "<details>\n",
       "\t<summary style=display:list-item;cursor:pointer>\n",
       "\t\t<strong>Levels</strong>:\n",
       "\t</summary>\n",
       "\t<style>\n",
       "\t.list-inline {list-style: none; margin:0; padding: 0}\n",
       "\t.list-inline>li {display: inline-block}\n",
       "\t.list-inline>li:not(:last-child)::after {content: \"\\00b7\"; padding: 0 .5ex}\n",
       "\t</style>\n",
       "\t<ol class=list-inline><li>'D'</li><li>'E'</li><li>'F'</li><li>'G'</li><li>'H'</li><li>'I'</li><li>'J'</li></ol>\n",
       "</details>"
      ],
      "text/latex": [
       "G\n",
       "\\emph{Levels}: \\begin{enumerate*}\n",
       "\\item 'D'\n",
       "\\item 'E'\n",
       "\\item 'F'\n",
       "\\item 'G'\n",
       "\\item 'H'\n",
       "\\item 'I'\n",
       "\\item 'J'\n",
       "\\end{enumerate*}\n"
      ],
      "text/markdown": [
       "G\n",
       "**Levels**: 1. 'D'\n",
       "2. 'E'\n",
       "3. 'F'\n",
       "4. 'G'\n",
       "5. 'H'\n",
       "6. 'I'\n",
       "7. 'J'\n",
       "\n",
       "\n"
      ],
      "text/plain": [
       "[1] G\n",
       "Levels: D < E < F < G < H < I < J"
      ]
     },
     "metadata": {},
     "output_type": "display_data"
    }
   ],
   "source": [
    "getmode(diamantes$color)"
   ]
  },
  {
   "cell_type": "code",
   "execution_count": 16,
   "metadata": {
    "vscode": {
     "languageId": "r"
    }
   },
   "outputs": [
    {
     "data": {
      "text/html": [
       "SI1\n",
       "<details>\n",
       "\t<summary style=display:list-item;cursor:pointer>\n",
       "\t\t<strong>Levels</strong>:\n",
       "\t</summary>\n",
       "\t<style>\n",
       "\t.list-inline {list-style: none; margin:0; padding: 0}\n",
       "\t.list-inline>li {display: inline-block}\n",
       "\t.list-inline>li:not(:last-child)::after {content: \"\\00b7\"; padding: 0 .5ex}\n",
       "\t</style>\n",
       "\t<ol class=list-inline><li>'I1'</li><li>'SI2'</li><li>'SI1'</li><li>'VS2'</li><li>'VS1'</li><li>'VVS2'</li><li>'VVS1'</li><li>'IF'</li></ol>\n",
       "</details>"
      ],
      "text/latex": [
       "SI1\n",
       "\\emph{Levels}: \\begin{enumerate*}\n",
       "\\item 'I1'\n",
       "\\item 'SI2'\n",
       "\\item 'SI1'\n",
       "\\item 'VS2'\n",
       "\\item 'VS1'\n",
       "\\item 'VVS2'\n",
       "\\item 'VVS1'\n",
       "\\item 'IF'\n",
       "\\end{enumerate*}\n"
      ],
      "text/markdown": [
       "SI1\n",
       "**Levels**: 1. 'I1'\n",
       "2. 'SI2'\n",
       "3. 'SI1'\n",
       "4. 'VS2'\n",
       "5. 'VS1'\n",
       "6. 'VVS2'\n",
       "7. 'VVS1'\n",
       "8. 'IF'\n",
       "\n",
       "\n"
      ],
      "text/plain": [
       "[1] SI1\n",
       "Levels: I1 < SI2 < SI1 < VS2 < VS1 < VVS2 < VVS1 < IF"
      ]
     },
     "metadata": {},
     "output_type": "display_data"
    }
   ],
   "source": [
    "getmode(diamantes$clarity)"
   ]
  },
  {
   "cell_type": "markdown",
   "metadata": {},
   "source": [
    "#### A saída da função summary() está de acordo com a descrição mostrada anteriormente?"
   ]
  },
  {
   "cell_type": "code",
   "execution_count": 17,
   "metadata": {
    "vscode": {
     "languageId": "r"
    }
   },
   "outputs": [
    {
     "data": {
      "text/plain": [
       "     carat               cut        color        clarity          depth      \n",
       " Min.   :0.2000   Fair     : 1610   D: 6775   SI1    :13065   Min.   :43.00  \n",
       " 1st Qu.:0.4000   Good     : 4906   E: 9797   VS2    :12258   1st Qu.:61.00  \n",
       " Median :0.7000   Very Good:12082   F: 9542   SI2    : 9194   Median :61.80  \n",
       " Mean   :0.7979   Premium  :13791   G:11292   VS1    : 8171   Mean   :61.75  \n",
       " 3rd Qu.:1.0400   Ideal    :21551   H: 8304   VVS2   : 5066   3rd Qu.:62.50  \n",
       " Max.   :5.0100                     I: 5422   VVS1   : 3655   Max.   :79.00  \n",
       "                                    J: 2808   (Other): 2531                  \n",
       "     table           price             x                y         \n",
       " Min.   :43.00   Min.   :  326   Min.   : 0.000   Min.   : 0.000  \n",
       " 1st Qu.:56.00   1st Qu.:  950   1st Qu.: 4.710   1st Qu.: 4.720  \n",
       " Median :57.00   Median : 2401   Median : 5.700   Median : 5.710  \n",
       " Mean   :57.46   Mean   : 3933   Mean   : 5.731   Mean   : 5.735  \n",
       " 3rd Qu.:59.00   3rd Qu.: 5324   3rd Qu.: 6.540   3rd Qu.: 6.540  \n",
       " Max.   :95.00   Max.   :18823   Max.   :10.740   Max.   :58.900  \n",
       "                                                                  \n",
       "       z         \n",
       " Min.   : 0.000  \n",
       " 1st Qu.: 2.910  \n",
       " Median : 3.530  \n",
       " Mean   : 3.539  \n",
       " 3rd Qu.: 4.040  \n",
       " Max.   :31.800  \n",
       "                 "
      ]
     },
     "metadata": {},
     "output_type": "display_data"
    }
   ],
   "source": [
    "summary(diamantes)"
   ]
  },
  {
   "cell_type": "markdown",
   "metadata": {},
   "source": [
    "Os valores da função summary estão compatíveis com os valores calculados anteriormente, e dentro do esperado de cada variável conforme a análise anterior."
   ]
  },
  {
   "cell_type": "markdown",
   "metadata": {},
   "source": [
    "#### Explore a variável price, seguindo o modelo de exploração"
   ]
  },
  {
   "cell_type": "code",
   "execution_count": 18,
   "metadata": {
    "vscode": {
     "languageId": "r"
    }
   },
   "outputs": [
    {
     "name": "stdout",
     "output_type": "stream",
     "text": [
      "── Data Summary ────────────────────────\n",
      "                           Values        \n",
      "Name                       diamonds$price\n",
      "Number of rows             53940         \n",
      "Number of columns          1             \n",
      "_______________________                  \n",
      "Column type frequency:                   \n",
      "  numeric                  1             \n",
      "________________________                 \n",
      "Group variables            None          \n",
      "\n",
      "── Variable type: numeric ──────────────────────────────────────────────────────\n",
      "  skim_variable n_missing complete_rate  mean    sd    p0   p25   p50   p75\n",
      "1 data                  0             1 3933. 3989.   326   950  2401 5324.\n",
      "   p100 hist \n",
      "1 18823 ▇▂▁▁▁\n"
     ]
    }
   ],
   "source": [
    "if (knitr::is_latex_output()) {\n",
    "     # pdf output\n",
    "     skim_without_charts(diamonds$price)\n",
    "} else {\n",
    "     skim(diamonds$price)\n",
    "}"
   ]
  },
  {
   "cell_type": "markdown",
   "metadata": {},
   "source": [
    "#### Veja a distribuição da variável (histograma); observe a faixa de valores da variável e também."
   ]
  },
  {
   "cell_type": "code",
   "execution_count": 19,
   "metadata": {
    "vscode": {
     "languageId": "r"
    }
   },
   "outputs": [
    {
     "name": "stderr",
     "output_type": "stream",
     "text": [
      "`stat_bin()` using `bins = 30`. Pick better value with `binwidth`.\n",
      "\n"
     ]
    },
    {
     "data": {
      "image/png": "[encoded data removed]",
      "text/plain": [
       "plot without title"
      ]
     },
     "metadata": {
      "image/png": {
       "height": 420,
       "width": 420
      }
     },
     "output_type": "display_data"
    }
   ],
   "source": [
    "Price <- ggplot(data = diamantes) + geom_histogram(aes(price)) + labs_pubr() + theme_pubclean()\n",
    "Price"
   ]
  },
  {
   "cell_type": "markdown",
   "metadata": {},
   "source": [
    "Vemos uma grande concentração da distribuição dos preços nos valores mais baixos, em uma distribuição de cauda. As maiores concentrações estão em valores menores do que 5000."
   ]
  },
  {
   "cell_type": "markdown",
   "metadata": {},
   "source": [
    "#### Explore também as variáveis carat, cut, color, clarity, x, y, z, depth e table, seguindo o modelo de exploração."
   ]
  },
  {
   "cell_type": "code",
   "execution_count": 20,
   "metadata": {
    "vscode": {
     "languageId": "r"
    }
   },
   "outputs": [
    {
     "name": "stdout",
     "output_type": "stream",
     "text": [
      "── Data Summary ────────────────────────\n",
      "                           Values  \n",
      "Name                       diamonds\n",
      "Number of rows             53940   \n",
      "Number of columns          10      \n",
      "_______________________            \n",
      "Column type frequency:             \n",
      "  factor                   3       \n",
      "  numeric                  6       \n",
      "________________________           \n",
      "Group variables            None    \n",
      "\n",
      "── Variable type: factor ───────────────────────────────────────────────────────\n",
      "  skim_variable n_missing complete_rate ordered n_unique\n",
      "1 cut                   0             1 TRUE           5\n",
      "2 color                 0             1 TRUE           7\n",
      "3 clarity               0             1 TRUE           8\n",
      "  top_counts                                   \n",
      "1 Ide: 21551, Pre: 13791, Ver: 12082, Goo: 4906\n",
      "2 G: 11292, E: 9797, F: 9542, H: 8304          \n",
      "3 SI1: 13065, VS2: 12258, SI2: 9194, VS1: 8171 \n",
      "\n",
      "── Variable type: numeric ──────────────────────────────────────────────────────\n",
      "  skim_variable n_missing complete_rate   mean    sd    p0   p25   p50   p75\n",
      "1 carat                 0             1  0.798 0.474   0.2  0.4   0.7   1.04\n",
      "2 depth                 0             1 61.7   1.43   43   61    61.8  62.5 \n",
      "3 table                 0             1 57.5   2.23   43   56    57    59   \n",
      "4 x                     0             1  5.73  1.12    0    4.71  5.7   6.54\n",
      "5 y                     0             1  5.73  1.14    0    4.72  5.71  6.54\n",
      "6 z                     0             1  3.54  0.706   0    2.91  3.53  4.04\n",
      "   p100 hist \n",
      "1  5.01 ▇▂▁▁▁\n",
      "2 79    ▁▁▇▁▁\n",
      "3 95    ▁▇▁▁▁\n",
      "4 10.7  ▁▁▇▃▁\n",
      "5 58.9  ▇▁▁▁▁\n",
      "6 31.8  ▇▁▁▁▁\n"
     ]
    }
   ],
   "source": [
    "if (knitr::is_latex_output()) {\n",
    "     # pdf output\n",
    "     skim_without_charts(diamonds, - price)\n",
    "} else {\n",
    "     skim(diamonds, - price)\n",
    "}"
   ]
  },
  {
   "cell_type": "code",
   "execution_count": 21,
   "metadata": {
    "vscode": {
     "languageId": "r"
    }
   },
   "outputs": [
    {
     "name": "stderr",
     "output_type": "stream",
     "text": [
      "`stat_bin()` using `bins = 30`. Pick better value with `binwidth`.\n",
      "\n",
      "`stat_bin()` using `bins = 30`. Pick better value with `binwidth`.\n",
      "\n",
      "`stat_bin()` using `bins = 30`. Pick better value with `binwidth`.\n",
      "\n",
      "`stat_bin()` using `bins = 30`. Pick better value with `binwidth`.\n",
      "\n",
      "`stat_bin()` using `bins = 30`. Pick better value with `binwidth`.\n",
      "\n",
      "`stat_bin()` using `bins = 30`. Pick better value with `binwidth`.\n",
      "\n"
     ]
    },
    {
     "data": {
      "image/png": "[encoded data removed]",
      "text/plain": [
       "plot without title"
      ]
     },
     "metadata": {
      "image/png": {
       "height": 420,
       "width": 420
      }
     },
     "output_type": "display_data"
    }
   ],
   "source": [
    "h_carat <- ggplot(data = diamantes) + geom_histogram(aes(carat)) + labs_pubr() + theme_pubclean()\n",
    "h_depth <- ggplot(data = diamantes) + geom_histogram(aes(depth)) + labs_pubr() + theme_pubclean()\n",
    "h_table <- ggplot(data = diamantes) + geom_histogram(aes(table)) + labs_pubr() + theme_pubclean()\n",
    "h_x <- ggplot(data = diamantes) + geom_histogram(aes(x)) + labs_pubr() + theme_pubclean()\n",
    "h_y <- ggplot(data = diamantes) + geom_histogram(aes(y)) + labs_pubr() + theme_pubclean()\n",
    "h_z <- ggplot(data = diamantes) + geom_histogram(aes(z)) + labs_pubr() + theme_pubclean()\n",
    "\n",
    "\n",
    "ggarrange(ncol = 3, nrow = 2, h_carat, h_depth, h_table, h_x, h_y, h_z) "
   ]
  },
  {
   "cell_type": "markdown",
   "metadata": {},
   "source": [
    "Pelos histogramas conseguimos ver:\n",
    "* Na variável carat vemos que mais da metade dos diamantes tem um peso menor do que 2\n",
    "* Na variável depth vemos o perncetual de profundidade está bastante concentrado entre 60 e 65\n",
    "* Na variável table temos que o tamanho do topo do diamante está concentrado entre 50 e 65\n",
    "* Na variável x temos que o comprimento está concentrado entre 4 e 8mm\n",
    "* Na variável y temos que a largura está concentrada entre 0 e 10mm\n",
    "* Na variável z temos que a profundidade está concentrada entre 2 e 6mm"
   ]
  },
  {
   "cell_type": "markdown",
   "metadata": {},
   "source": [
    "#### Crie boxplots para as variáveis numéricas; veja se existem dados anormais (outliers)."
   ]
  },
  {
   "cell_type": "code",
   "execution_count": 22,
   "metadata": {
    "vscode": {
     "languageId": "r"
    }
   },
   "outputs": [
    {
     "data": {
      "image/png": "[encoded data removed]",
      "text/plain": [
       "plot without title"
      ]
     },
     "metadata": {
      "image/png": {
       "height": 420,
       "width": 420
      }
     },
     "output_type": "display_data"
    }
   ],
   "source": [
    "b_carat <- ggplot(data = diamantes) + geom_boxplot(aes(y=carat)) + labs_pubr() + theme_pubclean()\n",
    "b_depth <- ggplot(data = diamantes) + geom_boxplot(aes(y=depth)) + labs_pubr() + theme_pubclean()\n",
    "b_table <- ggplot(data = diamantes) + geom_boxplot(aes(y=table)) + labs_pubr() + theme_pubclean()\n",
    "b_x <- ggplot(data = diamantes) + geom_boxplot(aes(y=x)) + labs_pubr() + theme_pubclean()\n",
    "b_y <- ggplot(data = diamantes) + geom_boxplot(aes(y=y)) + labs_pubr() + theme_pubclean()\n",
    "b_z <- ggplot(data = diamantes) + geom_boxplot(aes(y=z)) + labs_pubr() + theme_pubclean()\n",
    "\n",
    "ggarrange(ncol = 3, nrow = 2, b_carat, b_depth, b_table, b_x, b_y, b_z) "
   ]
  },
  {
   "cell_type": "markdown",
   "metadata": {},
   "source": [
    "Pelos gráficos conseguimos ver que temos muitos outliers nas medições, causadas pela alta concetração de amostras em torno de poucos valores, conforme visualizado nos histogramas."
   ]
  },
  {
   "cell_type": "markdown",
   "metadata": {},
   "source": [
    "#### Utilize as variáveis categóricas para fazer o facetamento dos dados, mostrando alguns gráficos com 2 ou mais variáveis contínuas lado a lado."
   ]
  },
  {
   "cell_type": "code",
   "execution_count": 23,
   "metadata": {
    "vscode": {
     "languageId": "r"
    }
   },
   "outputs": [
    {
     "data": {
      "image/png": "[encoded data removed]",
      "text/plain": [
       "plot without title"
      ]
     },
     "metadata": {
      "image/png": {
       "height": 420,
       "width": 420
      }
     },
     "output_type": "display_data"
    }
   ],
   "source": [
    "clpr <- ggplot(data = diamonds, aes(x = color, y = price)) + geom_boxplot()\n",
    "cupr <- ggplot(data = diamonds, aes(x = cut, y = price)) + geom_boxplot()\n",
    "crpr <- ggplot(data = diamonds, aes(x = clarity, y = price)) + geom_boxplot()\n",
    "\n",
    "ggarrange(ncol = 1, nrow = 3, clpr, cupr, crpr) "
   ]
  }
 ],
 "metadata": {
  "kernelspec": {
   "display_name": "R",
   "language": "R",
   "name": "ir"
  },
  "language_info": {
   "codemirror_mode": "r",
   "file_extension": ".r",
   "mimetype": "text/x-r-source",
   "name": "R",
   "pygments_lexer": "r",
   "version": "3.6.3"
  }
 },
 "nbformat": 4,
 "nbformat_minor": 2
}

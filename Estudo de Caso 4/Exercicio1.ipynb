{
 "cells": [
  {
   "attachments": {},
   "cell_type": "markdown",
   "metadata": {},
   "source": [
    "## Análise de Regressão Simples\n",
    "\n",
    "### Problema 1"
   ]
  },
  {
   "cell_type": "markdown",
   "metadata": {},
   "source": [
    "Para uma amostra de oito operadores de máquina, foram coletados o número de horas de treinamento (x) e o tempo necessário para completar o trabalho (y). Os dados coletados encontram-se na tabela abaixo:\n",
    "\n",
    "x\t5.2\t5.1\t4.9\t4.6\t4.7\t4.8\t4.6\t4.9\n",
    "y\t13\t15\t16\t20\t19\t17\t21\t16\n",
    "\n",
    "Com estes dados, faça:\n",
    "\n",
    "a)    Um gráfico de dispersão para os dados"
   ]
  },
  {
   "cell_type": "code",
   "execution_count": 1,
   "metadata": {
    "vscode": {
     "languageId": "r"
    }
   },
   "outputs": [
    {
     "data": {
      "text/html": [
       "<table class=\"dataframe\">\n",
       "<caption>A data.frame: 6 × 2</caption>\n",
       "<thead>\n",
       "\t<tr><th></th><th scope=col>treinameto</th><th scope=col>trabalho</th></tr>\n",
       "\t<tr><th></th><th scope=col>&lt;dbl&gt;</th><th scope=col>&lt;dbl&gt;</th></tr>\n",
       "</thead>\n",
       "<tbody>\n",
       "\t<tr><th scope=row>1</th><td>5.2</td><td>13</td></tr>\n",
       "\t<tr><th scope=row>2</th><td>5.1</td><td>15</td></tr>\n",
       "\t<tr><th scope=row>3</th><td>4.9</td><td>16</td></tr>\n",
       "\t<tr><th scope=row>4</th><td>4.6</td><td>20</td></tr>\n",
       "\t<tr><th scope=row>5</th><td>4.7</td><td>19</td></tr>\n",
       "\t<tr><th scope=row>6</th><td>4.8</td><td>17</td></tr>\n",
       "</tbody>\n",
       "</table>\n"
      ],
      "text/latex": [
       "A data.frame: 6 × 2\n",
       "\\begin{tabular}{r|ll}\n",
       "  & treinameto & trabalho\\\\\n",
       "  & <dbl> & <dbl>\\\\\n",
       "\\hline\n",
       "\t1 & 5.2 & 13\\\\\n",
       "\t2 & 5.1 & 15\\\\\n",
       "\t3 & 4.9 & 16\\\\\n",
       "\t4 & 4.6 & 20\\\\\n",
       "\t5 & 4.7 & 19\\\\\n",
       "\t6 & 4.8 & 17\\\\\n",
       "\\end{tabular}\n"
      ],
      "text/markdown": [
       "\n",
       "A data.frame: 6 × 2\n",
       "\n",
       "| <!--/--> | treinameto &lt;dbl&gt; | trabalho &lt;dbl&gt; |\n",
       "|---|---|---|\n",
       "| 1 | 5.2 | 13 |\n",
       "| 2 | 5.1 | 15 |\n",
       "| 3 | 4.9 | 16 |\n",
       "| 4 | 4.6 | 20 |\n",
       "| 5 | 4.7 | 19 |\n",
       "| 6 | 4.8 | 17 |\n",
       "\n"
      ],
      "text/plain": [
       "  treinameto trabalho\n",
       "1 5.2        13      \n",
       "2 5.1        15      \n",
       "3 4.9        16      \n",
       "4 4.6        20      \n",
       "5 4.7        19      \n",
       "6 4.8        17      "
      ]
     },
     "metadata": {},
     "output_type": "display_data"
    }
   ],
   "source": [
    "# Carregando os dados\n",
    "x <- c(5.2,5.1,4.9,4.6,4.7,4.8,4.6,4.9)\n",
    "y <- c(13,15,16,20,19,17,21,16)\n",
    "operadores <- data.frame(x, y)\n",
    "names(operadores) <- c(\"treinameto\",\"trabalho\")\n",
    "\n",
    "head(operadores)"
   ]
  },
  {
   "cell_type": "code",
   "execution_count": 2,
   "metadata": {
    "vscode": {
     "languageId": "r"
    }
   },
   "outputs": [
    {
     "name": "stdout",
     "output_type": "stream",
     "text": [
      "'data.frame':\t8 obs. of  2 variables:\n",
      " $ treinameto: num  5.2 5.1 4.9 4.6 4.7 4.8 4.6 4.9\n",
      " $ trabalho  : num  13 15 16 20 19 17 21 16\n"
     ]
    }
   ],
   "source": [
    "# verificando a estrutura\n",
    "str(operadores)"
   ]
  },
  {
   "cell_type": "code",
   "execution_count": 3,
   "metadata": {
    "vscode": {
     "languageId": "r"
    }
   },
   "outputs": [
    {
     "data": {
      "text/plain": [
       "   treinameto       trabalho    \n",
       " Min.   :4.600   Min.   :13.00  \n",
       " 1st Qu.:4.675   1st Qu.:15.75  \n",
       " Median :4.850   Median :16.50  \n",
       " Mean   :4.850   Mean   :17.12  \n",
       " 3rd Qu.:4.950   3rd Qu.:19.25  \n",
       " Max.   :5.200   Max.   :21.00  "
      ]
     },
     "metadata": {},
     "output_type": "display_data"
    }
   ],
   "source": [
    "summary(operadores)"
   ]
  },
  {
   "cell_type": "code",
   "execution_count": 4,
   "metadata": {
    "vscode": {
     "languageId": "r"
    }
   },
   "outputs": [
    {
     "name": "stderr",
     "output_type": "stream",
     "text": [
      "Warning message in system(\"timedatectl\", intern = TRUE):\n",
      "“running command 'timedatectl' had status 1”\n",
      "── \u001b[1mAttaching packages\u001b[22m ─────────────────────────────────────── tidyverse 1.3.1 ──\n",
      "\n",
      "\u001b[32m✔\u001b[39m \u001b[34mtibble \u001b[39m 3.1.6     \u001b[32m✔\u001b[39m \u001b[34mdplyr  \u001b[39m 1.0.8\n",
      "\u001b[32m✔\u001b[39m \u001b[34mtidyr  \u001b[39m 1.2.0     \u001b[32m✔\u001b[39m \u001b[34mstringr\u001b[39m 1.4.0\n",
      "\u001b[32m✔\u001b[39m \u001b[34mreadr  \u001b[39m 2.1.2     \u001b[32m✔\u001b[39m \u001b[34mforcats\u001b[39m 0.5.1\n",
      "\u001b[32m✔\u001b[39m \u001b[34mpurrr  \u001b[39m 0.3.4     \n",
      "\n",
      "── \u001b[1mConflicts\u001b[22m ────────────────────────────────────────── tidyverse_conflicts() ──\n",
      "\u001b[31m✖\u001b[39m \u001b[34mdplyr\u001b[39m::\u001b[32mfilter()\u001b[39m masks \u001b[34mstats\u001b[39m::filter()\n",
      "\u001b[31m✖\u001b[39m \u001b[34mdplyr\u001b[39m::\u001b[32mlag()\u001b[39m    masks \u001b[34mstats\u001b[39m::lag()\n",
      "\n"
     ]
    }
   ],
   "source": [
    "# importando bibliotecas\n",
    "library(ggplot2)\n",
    "library(ggpubr)\n",
    "library(tidyverse)"
   ]
  },
  {
   "cell_type": "code",
   "execution_count": 5,
   "metadata": {
    "vscode": {
     "languageId": "r"
    }
   },
   "outputs": [
    {
     "data": {
      "image/png": "[encoded data removed]",
      "text/plain": [
       "plot without title"
      ]
     },
     "metadata": {
      "image/png": {
       "height": 420,
       "width": 420
      }
     },
     "output_type": "display_data"
    }
   ],
   "source": [
    "# montando o gráfico de dispersão\n",
    "p <- ggplot(data = operadores, aes(x = treinameto, y = trabalho)) + geom_point(color = \"red\",\n",
    " fill = \"blue\") + xlab(\"Treinamento\") + ylab(\"Trabalho\") +\n",
    " theme_pubr(legend = \"right\") + labs_pubr() + theme(plot.caption = element_text(hjust = 0))\n",
    "p"
   ]
  },
  {
   "cell_type": "markdown",
   "metadata": {},
   "source": [
    "b) Determine o modelo de regressão linear simples entre as variáveis x e y, sendo y a variável resposta."
   ]
  },
  {
   "cell_type": "code",
   "execution_count": 10,
   "metadata": {
    "vscode": {
     "languageId": "r"
    }
   },
   "outputs": [
    {
     "data": {
      "text/plain": [
       "\n",
       "Call:\n",
       "lm(formula = y ~ x, data = operadores)\n",
       "\n",
       "Coefficients:\n",
       "(Intercept)            x  \n",
       "      74.90       -11.91  \n"
      ]
     },
     "metadata": {},
     "output_type": "display_data"
    }
   ],
   "source": [
    "# Montando a regressão linear\n",
    "regressao <- lm(y ~ x, data=operadores)\n",
    "regressao"
   ]
  },
  {
   "cell_type": "markdown",
   "metadata": {},
   "source": [
    "c) Faça uma análise do modelo de regressão utilizando a função summary:\n",
    "    i) resíduos, significância estatística dos coeficientes, percentual de variância explicada pelo modelo."
   ]
  },
  {
   "cell_type": "code",
   "execution_count": 11,
   "metadata": {
    "vscode": {
     "languageId": "r"
    }
   },
   "outputs": [
    {
     "data": {
      "text/plain": [
       "\n",
       "Call:\n",
       "lm(formula = y ~ x, data = operadores)\n",
       "\n",
       "Residuals:\n",
       "     Min       1Q   Median       3Q      Max \n",
       "-0.72059 -0.52941 -0.02941  0.27941  0.89706 \n",
       "\n",
       "Coefficients:\n",
       "            Estimate Std. Error t value Pr(>|t|)    \n",
       "(Intercept)   74.897      5.514   13.58 9.88e-06 ***\n",
       "x            -11.912      1.136  -10.49 4.42e-05 ***\n",
       "---\n",
       "Signif. codes:  0 ‘***’ 0.001 ‘**’ 0.01 ‘*’ 0.05 ‘.’ 0.1 ‘ ’ 1\n",
       "\n",
       "Residual standard error: 0.6624 on 6 degrees of freedom\n",
       "Multiple R-squared:  0.9483,\tAdjusted R-squared:  0.9396 \n",
       "F-statistic:   110 on 1 and 6 DF,  p-value: 4.416e-05\n"
      ]
     },
     "metadata": {},
     "output_type": "display_data"
    }
   ],
   "source": [
    "summary(regressao)"
   ]
  },
  {
   "cell_type": "markdown",
   "metadata": {},
   "source": [
    "* Resíduos: distribuição simetrica, com mediana próxima de zero\n",
    "* Significância estatística dos coeficientes: Próxima de 0\n",
    "* Percentual de variância explicada pelo modelo: 0,9396"
   ]
  },
  {
   "cell_type": "markdown",
   "metadata": {},
   "source": [
    "d) Trace, no gráfico anterior, a reta de regressão."
   ]
  },
  {
   "cell_type": "code",
   "execution_count": 8,
   "metadata": {
    "vscode": {
     "languageId": "r"
    }
   },
   "outputs": [
    {
     "data": {
      "text/html": [
       "38.8"
      ],
      "text/latex": [
       "38.8"
      ],
      "text/markdown": [
       "38.8"
      ],
      "text/plain": [
       "[1] 38.8"
      ]
     },
     "metadata": {},
     "output_type": "display_data"
    }
   ],
   "source": [
    "# determinando parâmetros da reta\n",
    "SX <- sum(x)\n",
    "SX"
   ]
  },
  {
   "cell_type": "code",
   "execution_count": 9,
   "metadata": {
    "vscode": {
     "languageId": "r"
    }
   },
   "outputs": [
    {
     "data": {
      "text/html": [
       "0.34"
      ],
      "text/latex": [
       "0.34"
      ],
      "text/markdown": [
       "0.34"
      ],
      "text/plain": [
       "[1] 0.34"
      ]
     },
     "metadata": {},
     "output_type": "display_data"
    }
   ],
   "source": [
    "SSX <- sum((x - mean(x))^2)\n",
    "SSX"
   ]
  },
  {
   "cell_type": "code",
   "execution_count": 10,
   "metadata": {
    "vscode": {
     "languageId": "r"
    }
   },
   "outputs": [
    {
     "data": {
      "text/html": [
       "137"
      ],
      "text/latex": [
       "137"
      ],
      "text/markdown": [
       "137"
      ],
      "text/plain": [
       "[1] 137"
      ]
     },
     "metadata": {},
     "output_type": "display_data"
    }
   ],
   "source": [
    "SY <- sum(y)\n",
    "SY"
   ]
  },
  {
   "cell_type": "code",
   "execution_count": 11,
   "metadata": {
    "vscode": {
     "languageId": "r"
    }
   },
   "outputs": [
    {
     "data": {
      "text/html": [
       "50.875"
      ],
      "text/latex": [
       "50.875"
      ],
      "text/markdown": [
       "50.875"
      ],
      "text/plain": [
       "[1] 50.875"
      ]
     },
     "metadata": {},
     "output_type": "display_data"
    }
   ],
   "source": [
    "SSY <- sum((y - mean(y))^2)\n",
    "SSY"
   ]
  },
  {
   "cell_type": "code",
   "execution_count": 12,
   "metadata": {
    "vscode": {
     "languageId": "r"
    }
   },
   "outputs": [
    {
     "data": {
      "text/html": [
       "-4.05"
      ],
      "text/latex": [
       "-4.05"
      ],
      "text/markdown": [
       "-4.05"
      ],
      "text/plain": [
       "[1] -4.05"
      ]
     },
     "metadata": {},
     "output_type": "display_data"
    }
   ],
   "source": [
    "SSXY <- sum((x - mean(x)) * (y - mean(y)))\n",
    "SSXY"
   ]
  },
  {
   "cell_type": "code",
   "execution_count": 13,
   "metadata": {
    "vscode": {
     "languageId": "r"
    }
   },
   "outputs": [
    {
     "data": {
      "text/html": [
       "-11.9117647058823"
      ],
      "text/latex": [
       "-11.9117647058823"
      ],
      "text/markdown": [
       "-11.9117647058823"
      ],
      "text/plain": [
       "[1] -11.91176"
      ]
     },
     "metadata": {},
     "output_type": "display_data"
    }
   ],
   "source": [
    "b_1 <- SSXY/SSX\n",
    "b_1"
   ]
  },
  {
   "cell_type": "code",
   "execution_count": 14,
   "metadata": {
    "vscode": {
     "languageId": "r"
    }
   },
   "outputs": [
    {
     "data": {
      "text/html": [
       "74.8970588235294"
      ],
      "text/latex": [
       "74.8970588235294"
      ],
      "text/markdown": [
       "74.8970588235294"
      ],
      "text/plain": [
       "[1] 74.89706"
      ]
     },
     "metadata": {},
     "output_type": "display_data"
    }
   ],
   "source": [
    "b_0 <- mean(y) - b_1 * mean(x)\n",
    "b_0"
   ]
  },
  {
   "cell_type": "code",
   "execution_count": 15,
   "metadata": {
    "vscode": {
     "languageId": "r"
    }
   },
   "outputs": [
    {
     "data": {
      "image/png": "[encoded data removed]",
      "text/plain": [
       "plot without title"
      ]
     },
     "metadata": {
      "image/png": {
       "height": 420,
       "width": 420
      }
     },
     "output_type": "display_data"
    }
   ],
   "source": [
    "# adicionando a reta de regressão no gráfico\n",
    "p <- ggplot(data = operadores, aes(x = treinameto, y = trabalho)) + geom_point(color = \"red\",\n",
    " fill = \"blue\") + xlab(\"Treinamento\") + ylab(\"Trabalho\") +\n",
    " theme_pubr(legend = \"right\") + labs_pubr() + theme(plot.caption = element_text(hjust = 0))\n",
    "p <- p + geom_abline(intercept = b_0, slope = b_1, color = \"blue\")\n",
    "p"
   ]
  }
 ],
 "metadata": {
  "kernelspec": {
   "display_name": "R",
   "language": "R",
   "name": "ir"
  },
  "language_info": {
   "codemirror_mode": "r",
   "file_extension": ".r",
   "mimetype": "text/x-r-source",
   "name": "R",
   "pygments_lexer": "r",
   "version": "3.6.3"
  },
  "orig_nbformat": 4
 },
 "nbformat": 4,
 "nbformat_minor": 2
}

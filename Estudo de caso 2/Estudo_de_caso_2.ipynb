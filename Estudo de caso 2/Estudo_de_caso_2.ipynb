{
 "cells": [
  {
   "attachments": {},
   "cell_type": "markdown",
   "metadata": {},
   "source": [
    "## Análise estatística\n",
    "### Estudo de caso 2"
   ]
  },
  {
   "cell_type": "markdown",
   "metadata": {
    "id": "xgDCcn1u0Gxq"
   },
   "source": [
    "1. Suponha que o peso médio dos Pinguins Reis encontrados em uma colônia na Antártica no último ano foi 15.4 kg. Em uma amostra de 35 pinguins na mesma época neste ano, na mesma colônia, o peso médio foi 14.1kg. Assuma que o desvio padrão da população seja 2kg. A um nível de significância de 5%, nós podemos rejeitar a hipótese nula de que o peso médio dos pinguins não difere do último ano?\n",
    "Hipóteses:\n",
    "* 𝐻0: 𝜇0 = 15.4kg\n",
    "* 𝐻1: 𝜇0 ≠ 15.4kg"
   ]
  },
  {
   "cell_type": "code",
   "execution_count": 1,
   "metadata": {
    "colab": {
     "base_uri": "https://localhost:8080/"
    },
    "id": "LDdyNJUw0FON",
    "outputId": "ca34ca8e-e20d-4c25-ca50-028b1b4a2e17",
    "vscode": {
     "languageId": "r"
    }
   },
   "outputs": [
    {
     "name": "stdout",
     "output_type": "stream",
     "text": [
      "[1] -3.845452\n"
     ]
    }
   ],
   "source": [
    "# Estatística de Teste:\n",
    "xbar = 14.1 # media da amostra\n",
    "mu0 = 15.4 # valor da hipótese\n",
    "sigma = 2 # desvio padrão da população\n",
    "n = 35 # tamanho da amostra \n",
    "z  = (xbar-mu0)/(sigma/sqrt(n)) # estatística de teste\n",
    "print(z)"
   ]
  },
  {
   "cell_type": "markdown",
   "metadata": {
    "id": "uDK8Ohgv1SmD"
   },
   "source": [
    "Agora os valores críticos em um nível de significância 𝛼 = 0.05"
   ]
  },
  {
   "cell_type": "code",
   "execution_count": 2,
   "metadata": {
    "colab": {
     "base_uri": "https://localhost:8080/"
    },
    "id": "biRKH0By1TJx",
    "outputId": "9e160af4-3a2d-4876-fc98-103e6f3d113f",
    "vscode": {
     "languageId": "r"
    }
   },
   "outputs": [
    {
     "name": "stdout",
     "output_type": "stream",
     "text": [
      "[1] -1.959964  1.959964\n"
     ]
    }
   ],
   "source": [
    "alpha = 0.05\n",
    "z.half.alpha = qnorm(1 - alpha/2) # Valor crítico\n",
    "print(c(-z.half.alpha,z.half.alpha))\n"
   ]
  },
  {
   "cell_type": "markdown",
   "metadata": {
    "id": "MR56IXWn1wb6"
   },
   "source": [
    "A estatística de teste z = -3.845452 está fora dos valores críticos -1.96, 1.96, ou seja, está fora da região de aceitação. Portanto, a um nível de significância de 0.05, nós rejeitamos a hipótese nula de que o peso médio dos pinguins se manteve em relação ao último ano.\n",
    "\n",
    "---\n"
   ]
  },
  {
   "cell_type": "markdown",
   "metadata": {
    "id": "-EkBy41i2jb8"
   },
   "source": [
    "2. Na indústria cerâmica, avalia-se sistematicamente a resistência de amostras de massas cerâmicas, após o processo de queima. Dessas avaliações, sabe-se que certo tipo de massa tem resistência mecânica aproximadamente normal, com média 53 MPa e variância 16 MPa². Após a troca de alguns fornecedores de matérias-primas, deseja-se verificar se houve alteração na qualidade. Uma amostra de 15 corpos de prova de massa cerâmica acusou média igual a 50 MPa. Qual é a conclusão ao nível de significância de 5 %?\n",
    "Hipóteses:\n",
    "* 𝐻0: 𝜇0 = 53kg\n",
    "* 𝐻1: 𝜇0 ≠ 53kg"
   ]
  },
  {
   "cell_type": "code",
   "execution_count": 3,
   "metadata": {
    "colab": {
     "base_uri": "https://localhost:8080/"
    },
    "id": "ir3xX8SH2rsi",
    "outputId": "d6021e87-cb83-40ca-ad65-cd2f4cd85deb",
    "vscode": {
     "languageId": "r"
    }
   },
   "outputs": [
    {
     "name": "stdout",
     "output_type": "stream",
     "text": [
      "[1] -0.7261844\n"
     ]
    }
   ],
   "source": [
    "# Estatística de Teste:\n",
    "xbar = 50 # media da amostra\n",
    "mu0 = 53 # valor da hipótese\n",
    "sigma = 16 # desvio padrão da população\n",
    "n = 15 # tamanho da amostra \n",
    "z  = sqrt(n)*(xbar-mu0)/sigma # estatística de teste\n",
    "print(z)"
   ]
  },
  {
   "cell_type": "code",
   "execution_count": 4,
   "metadata": {
    "colab": {
     "base_uri": "https://localhost:8080/"
    },
    "id": "06L15DMS4Kcj",
    "outputId": "6e2fdf55-e437-4bda-a05a-d34188a18977",
    "vscode": {
     "languageId": "r"
    }
   },
   "outputs": [
    {
     "data": {
      "text/html": [
       "-1.64485362695147"
      ],
      "text/latex": [
       "-1.64485362695147"
      ],
      "text/markdown": [
       "-1.64485362695147"
      ],
      "text/plain": [
       "[1] -1.644854"
      ]
     },
     "metadata": {},
     "output_type": "display_data"
    }
   ],
   "source": [
    "alpha = 0.05\n",
    "rc <- qnorm(alpha)\n",
    "rc"
   ]
  },
  {
   "cell_type": "markdown",
   "metadata": {
    "id": "QaBe3C-w4wQM"
   },
   "source": [
    "A estatística de teste z = -0.726 está fora dos valores críticos -1.64, isso significa que está fora da região de aceitação.\n",
    "Ao aplicar o nível de significância de 0.05 (valor de Alpha apresentado), nós rejeitamos a hipótese nula de que a troca dos fornecedores não alterou a qualidade do produto.\n",
    "\n",
    "---"
   ]
  },
  {
   "cell_type": "markdown",
   "metadata": {
    "id": "TAI9BPbU5Gel"
   },
   "source": [
    "3. O tempo para transmitir 10 MB em determinada rede de computadores varia segundo um modelo normal, com média 7,4 seg e variância 1,3 𝑠𝑒𝑔². Depois de algumas mudanças na rede acredita-se numa redução no tempo de transmissão de dados, além de uma possível alteração na variabilidade. Foram realizados 10 ensaios independentes com um arquivo de 10 MB e foram anotados os tempos de transmissão, em segundos:\n",
    "6,8; 7,1; 5,9; 7,5; 6,3; 6,9; 7,2; 7,6; 6,6; 6,3\n",
    "Existe evidência suficiente de que o tempo médio de transmissão foi reduzido? Use nível de significância de 1%.\n",
    "Hipóteses:\n",
    "* 𝐻0: 𝜇0 = 7.4𝑠\n",
    "* 𝐻1: 𝜇0 < 7.4𝑠"
   ]
  },
  {
   "cell_type": "code",
   "execution_count": 5,
   "metadata": {
    "colab": {
     "base_uri": "https://localhost:8080/"
    },
    "id": "4Wuy8E0d5QGM",
    "outputId": "77ac7553-c3b8-42dc-f0a0-968266270682",
    "vscode": {
     "languageId": "r"
    }
   },
   "outputs": [
    {
     "name": "stdout",
     "output_type": "stream",
     "text": [
      "[1] \"tc:  -3.24983554159213\"\n",
      "[1] \"Tt:  -1.60863056905316\"\n"
     ]
    }
   ],
   "source": [
    "# teste unilateral\n",
    "alpha = 0.01\n",
    "amostra <- c(6.8, 7.1, 5.9, 7.5, 6.3, 6.9, 7.2, 7.6, 6.6, 6.3)\n",
    "n = length(amostra)# tamanho da amostra\n",
    "df = n-1 # graus de liberdade\n",
    "S = sqrt(1.3) # desvio padrão da \n",
    "mu0 = 7.4 # valor da hipótese\n",
    "xbar <- mean(amostra) # média da amostra\n",
    "tc <- qt(alpha/2,df=df) # Equação para calculo de TC\n",
    "print(paste(\"tc: \",tc))\n",
    "Tt = (sqrt(n)*(xbar - mu0))/S # Equação da Estatística de Teste\n",
    "print(paste(\"Tt: \",Tt))"
   ]
  },
  {
   "cell_type": "markdown",
   "metadata": {
    "id": "UeviCPuk7caT"
   },
   "source": [
    "A estatística de teste Tt = -1.6 está fora da região crítica. Ao aplicar o nível de significância de 1% nós aceitamos a hipótese de que a diferença foi significativa."
   ]
  }
 ],
 "metadata": {
  "colab": {
   "name": "Estudo de caso 2.ipynb",
   "provenance": []
  },
  "kernelspec": {
   "display_name": "R",
   "language": "R",
   "name": "ir"
  },
  "language_info": {
   "codemirror_mode": "r",
   "file_extension": ".r",
   "mimetype": "text/x-r-source",
   "name": "R",
   "pygments_lexer": "r",
   "version": "3.6.3"
  }
 },
 "nbformat": 4,
 "nbformat_minor": 1
}
